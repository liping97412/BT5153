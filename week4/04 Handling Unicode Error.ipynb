{
 "cells": [
  {
   "cell_type": "markdown",
   "metadata": {},
   "source": [
    "## Handling Unicode errors"
   ]
  },
  {
   "cell_type": "markdown",
   "metadata": {},
   "source": [
    "From the [scikit-learn documentation](http://scikit-learn.org/stable/modules/feature_extraction.html#decoding-text-files):\n",
    "\n",
    "> Text is made of **characters**, but files are made of **bytes**. These bytes represent characters according to some **encoding**. To work with text files in Python, their bytes must be decoded to a character set called **Unicode**. Common encodings are ASCII, Latin-1 (Western Europe), KOI8-R (Russian) and the universal encodings UTF-8 and UTF-16. Many others exist.\n",
    "\n",
    "**Why should you care?**\n",
    "\n",
    "When working with text in Python, you are likely to encounter errors related to encoding, and understanding Unicode will help you to troubleshoot these errors.\n",
    "\n",
    "**Unicode basics:**\n",
    "\n",
    "- Unicode is a system that assigns a unique number for every character in every language. These numbers are called **code points**. For example, the [code point](http://www.unicode.org/charts/index.html) for \"A\" is U+0041, and the official name is \"LATIN CAPITAL LETTER A\".\n",
    "- An **encoding** specifies how to store the code points in memory:\n",
    "    - **UTF-8** is the most popular Unicode encoding. It uses 8 to 32 bits to store each character.\n",
    "    - **UTF-16** is the second most popular Unicode encoding. It uses 16 or 32 bits to store each character.\n",
    "    - **UTF-32** is the least popular Unicode encoding. It uses 32 bits to store each character.\n",
    "\n",
    "**ASCII basics:**\n",
    "- ASCII is an encoding from the 1960's that uses 8 bits to store each character, and only supports **English characters**.\n",
    "- ASCII-encoded files are sometimes called **plain text**.\n",
    "- UTF-8 is **backward-compatible** with ASCII, because the first 8 bits of a UTF-8 encoding are identical to the ASCII encoding.\n",
    "\n",
    "The default encoding in **Python 2** is ASCII. The default encoding in **Python 3** is UTF-8."
   ]
  },
  {
   "cell_type": "code",
   "execution_count": 2,
   "metadata": {},
   "outputs": [
    {
     "name": "stdout",
     "output_type": "stream",
     "text": [
      "<class 'str'>\n",
      "<class 'str'>\n"
     ]
    }
   ],
   "source": [
    "# Python 2: examine two types of strings\n",
    "print(type('hello'))\n",
    "print(type(u'hello'))"
   ]
  },
  {
   "cell_type": "code",
   "execution_count": 3,
   "metadata": {},
   "outputs": [
    {
     "name": "stdout",
     "output_type": "stream",
     "text": [
      "<class 'str'>\n",
      "<class 'str'>\n"
     ]
    }
   ],
   "source": [
    "# Python 2: examine two types of strings\n",
    "print(type('hello'))\n",
    "print(type(u'hello'))"
   ]
  },
  {
   "cell_type": "code",
   "execution_count": 4,
   "metadata": {},
   "outputs": [
    {
     "data": {
      "text/plain": [
       "b'hello'"
      ]
     },
     "execution_count": 4,
     "metadata": {},
     "output_type": "execute_result"
    }
   ],
   "source": [
    "# Python 2: 'encode' converts 'unicode' to 'str'\n",
    "u'hello'.encode(encoding='utf-8')"
   ]
  },
  {
   "cell_type": "code",
   "execution_count": 6,
   "metadata": {},
   "outputs": [
    {
     "name": "stdout",
     "output_type": "stream",
     "text": [
      "<class 'bytes'>\n",
      "<class 'str'>\n"
     ]
    }
   ],
   "source": [
    "# Python 3: examine two types of strings\n",
    "print(type(b'hello'))\n",
    "print(type('hello'))"
   ]
  },
  {
   "cell_type": "code",
   "execution_count": null,
   "metadata": {},
   "outputs": [],
   "source": [
    "# Python 3: 'decode' converts 'bytes' to 'str'\n",
    "b'hello'.decode(encoding='utf-8')"
   ]
  }
 ],
 "metadata": {
  "kernelspec": {
   "display_name": "Python 3",
   "language": "python",
   "name": "python3"
  },
  "language_info": {
   "codemirror_mode": {
    "name": "ipython",
    "version": 3
   },
   "file_extension": ".py",
   "mimetype": "text/x-python",
   "name": "python",
   "nbconvert_exporter": "python",
   "pygments_lexer": "ipython3",
   "version": "3.6.4"
  }
 },
 "nbformat": 4,
 "nbformat_minor": 2
}
