{
 "cells": [
  {
   "cell_type": "markdown",
   "metadata": {},
   "source": [
    "# spaCy: The Basics\n",
    "\n",
    "![https://images.newrepublic.com/bfddd1f9b55195fa1414bfc55474db6da38ed13b.jpeg?w=1000&q=65&dpi=1&fm=pjpg&h=449](https://images.newrepublic.com/bfddd1f9b55195fa1414bfc55474db6da38ed13b.jpeg?w=1000&q=65&dpi=1&fm=pjpg&h=449)"
   ]
  },
  {
   "cell_type": "markdown",
   "metadata": {},
   "source": [
    "[spaCy](spacy.io) is an industrial-strength natural language processing (NLP) library for Python. spaCy's goal is to take recent advancements in natural language processing out of research papers and put them in the hands of users to build production software.\n",
    "\n",
    "spaCy handles many tasks commonly associated with building an end-to-end natural language processing pipeline:\n",
    "\n",
    "- Tokenization\n",
    "- Text normalization, such as lowercasing, stemming/lemmatization\n",
    "- Part-of-speech tagging\n",
    "- Syntactic dependency parsing\n",
    "- Sentence boundary detection\n",
    "- Named entity recognition and annotation\n",
    "\n",
    "In the \"batteries included\" Python tradition, spaCy contains built-in data and models which you can use out-of-the-box for processing general-purpose English language text:\n",
    "- Large English vocabulary, including stopword lists\n",
    "- Token \"probabilities\"\n",
    "- Word vectors\n",
    "\n",
    "spaCy is written in optimized Cython, which means it's **fast**. According to a few independent sources, it's the fastest syntactic parser available in any language. Key pieces of the spaCy parsing pipeline are written in pure C, enabling efficient multithreading (i.e., spaCy can release the *GIL*)."
   ]
  },
  {
   "cell_type": "markdown",
   "metadata": {},
   "source": [
    "![https://s3.amazonaws.com/skipgram-images/spaCy.png](https://s3.amazonaws.com/skipgram-images/spaCy.png)"
   ]
  },
  {
   "cell_type": "markdown",
   "metadata": {},
   "source": [
    "# Installing spaCy\n",
    "\n",
    "Via **Anaconda** (https://anaconda.org/spacy/spacy):\n",
    "> `conda install -c spacy spacy`\n",
    "\n",
    "or via **pip**\n",
    "> `pip install -U spacy`\n",
    "\n",
    "And you should download the data and models from spacy, here we downlaod the English data:\n",
    "> `python -m spacy.en.download all`\n",
    "\n",
    "Note the download data is about 1G，and it split by two parts: parser and glove word2vec modes, and you can also download them one by one:\n",
    "\n",
    "> `python -m spacy.en.download parser`\n",
    "\n",
    "> `python -m spacy.en.download glove`"
   ]
  },
  {
   "cell_type": "markdown",
   "metadata": {},
   "source": [
    "# Test spaCy"
   ]
  },
  {
   "cell_type": "code",
   "execution_count": 2,
   "metadata": {},
   "outputs": [],
   "source": [
    "import spacy"
   ]
  },
  {
   "cell_type": "code",
   "execution_count": 3,
   "metadata": {},
   "outputs": [],
   "source": [
    "nlp = spacy.load('en')"
   ]
  },
  {
   "cell_type": "code",
   "execution_count": 4,
   "metadata": {},
   "outputs": [
    {
     "data": {
      "text/plain": [
       "<spacy.lang.en.English at 0x7fc8e48>"
      ]
     },
     "execution_count": 4,
     "metadata": {},
     "output_type": "execute_result"
    }
   ],
   "source": [
    "nlp"
   ]
  },
  {
   "cell_type": "markdown",
   "metadata": {},
   "source": [
    "### Word Tokenize Test"
   ]
  },
  {
   "cell_type": "code",
   "execution_count": 5,
   "metadata": {},
   "outputs": [
    {
     "data": {
      "text/plain": [
       "this's spacy tokenize test"
      ]
     },
     "execution_count": 5,
     "metadata": {},
     "output_type": "execute_result"
    }
   ],
   "source": [
    "doc1 = nlp(\"this's spacy tokenize test\")\n",
    "doc1"
   ]
  },
  {
   "cell_type": "code",
   "execution_count": 6,
   "metadata": {},
   "outputs": [
    {
     "data": {
      "text/plain": [
       "spacy"
      ]
     },
     "execution_count": 6,
     "metadata": {},
     "output_type": "execute_result"
    }
   ],
   "source": [
    "doc1[2]"
   ]
  },
  {
   "cell_type": "code",
   "execution_count": 7,
   "metadata": {},
   "outputs": [
    {
     "name": "stdout",
     "output_type": "stream",
     "text": [
      "this\n",
      "'s\n",
      "spacy\n",
      "tokenize\n",
      "test\n"
     ]
    }
   ],
   "source": [
    "for token in doc1:\n",
    "    print(token)"
   ]
  },
  {
   "cell_type": "markdown",
   "metadata": {},
   "source": [
    "### Sentence Tokenize Test or Sentence Segmentation Test"
   ]
  },
  {
   "cell_type": "code",
   "execution_count": 8,
   "metadata": {},
   "outputs": [
    {
     "data": {
      "text/plain": [
       "this is spacy sentence tokenize test. this is second sent! is this the third sent? final test."
      ]
     },
     "execution_count": 8,
     "metadata": {},
     "output_type": "execute_result"
    }
   ],
   "source": [
    "doc2 = nlp(\"this is spacy sentence tokenize test. this is second sent! is this the third sent? final test.\")\n",
    "doc2"
   ]
  },
  {
   "cell_type": "code",
   "execution_count": 7,
   "metadata": {},
   "outputs": [
    {
     "name": "stdout",
     "output_type": "stream",
     "text": [
      "this is spacy sentence tokenize test.\n",
      "this is second sent!\n",
      "is this the third sent? final test.\n"
     ]
    }
   ],
   "source": [
    "#sents-sentence\n",
    "for sent in doc2.sents:\n",
    "    print(sent)"
   ]
  },
  {
   "cell_type": "markdown",
   "metadata": {},
   "source": [
    "### Lemmatize Test"
   ]
  },
  {
   "cell_type": "code",
   "execution_count": 11,
   "metadata": {},
   "outputs": [
    {
     "data": {
      "text/plain": [
       "this is spacy lemmatize testing test. programme programming book books are more better than others. mouse mice. goose geese."
      ]
     },
     "execution_count": 11,
     "metadata": {},
     "output_type": "execute_result"
    }
   ],
   "source": [
    "doc3 = nlp(\"this is spacy lemmatize testing test. programme programming book books are more better than others. mouse mice. goose geese.\")\n",
    "doc3"
   ]
  },
  {
   "cell_type": "code",
   "execution_count": 12,
   "metadata": {},
   "outputs": [
    {
     "name": "stdout",
     "output_type": "stream",
     "text": [
      "<class 'spacy.tokens.token.Token'>\n"
     ]
    }
   ],
   "source": [
    "print(type(doc3[3]))"
   ]
  },
  {
   "cell_type": "code",
   "execution_count": 13,
   "metadata": {
    "scrolled": true
   },
   "outputs": [
    {
     "name": "stdout",
     "output_type": "stream",
     "text": [
      "token:             this | token.lemma: 1995909169258310477 | token.lemma_: this\n",
      "token:               is | token.lemma: 10382539506755952630 | token.lemma_: be\n",
      "token:            spacy | token.lemma: 10639093010105930009 | token.lemma_: spacy\n",
      "token:        lemmatize | token.lemma: 4507259281035238268 | token.lemma_: lemmatize\n",
      "token:          testing | token.lemma: 2754665471364627735 | token.lemma_: testing\n",
      "token:             test | token.lemma: 1618900948208871284 | token.lemma_: test\n",
      "token:                . | token.lemma: 12646065887601541794 | token.lemma_: .\n",
      "token:        programme | token.lemma: 16575308216009452163 | token.lemma_: programme\n",
      "token:      programming | token.lemma: 17860067660221736314 | token.lemma_: programming\n",
      "token:             book | token.lemma: 13814433107111459297 | token.lemma_: book\n",
      "token:            books | token.lemma: 13814433107111459297 | token.lemma_: book\n",
      "token:              are | token.lemma: 10382539506755952630 | token.lemma_: be\n",
      "token:             more | token.lemma: 2160362229054775535 | token.lemma_: more\n",
      "token:           better | token.lemma: 5711639017775284443 | token.lemma_: good\n",
      "token:             than | token.lemma: 10794458019344880855 | token.lemma_: than\n",
      "token:           others | token.lemma: 1176656782636220709 | token.lemma_: other\n",
      "token:                . | token.lemma: 12646065887601541794 | token.lemma_: .\n",
      "token:            mouse | token.lemma: 1384165645700560590 | token.lemma_: mouse\n",
      "token:             mice | token.lemma: 1384165645700560590 | token.lemma_: mouse\n",
      "token:                . | token.lemma: 12646065887601541794 | token.lemma_: .\n",
      "token:            goose | token.lemma: 14246840893882729778 | token.lemma_: goose\n",
      "token:            geese | token.lemma: 2847472138331643735 | token.lemma_: geese\n",
      "token:                . | token.lemma: 12646065887601541794 | token.lemma_: .\n"
     ]
    }
   ],
   "source": [
    "#transform the words into the basic form (is to be)\n",
    "for token in doc3:\n",
    "    print('token: %16s | token.lemma: %8s | token.lemma_: %s' % (token, token.lemma, token.lemma_))\n",
    "#token.lemma--lemma index"
   ]
  },
  {
   "cell_type": "markdown",
   "metadata": {},
   "source": [
    "### Part-of-Speech (POS) Tagging Test"
   ]
  },
  {
   "cell_type": "code",
   "execution_count": 14,
   "metadata": {},
   "outputs": [
    {
     "data": {
      "text/plain": [
       "This is pos tagger test for spacy pos tagger"
      ]
     },
     "execution_count": 14,
     "metadata": {},
     "output_type": "execute_result"
    }
   ],
   "source": [
    "doc4 = nlp(\"This is pos tagger test for spacy pos tagger\")\n",
    "doc4"
   ]
  },
  {
   "cell_type": "code",
   "execution_count": 15,
   "metadata": {},
   "outputs": [
    {
     "name": "stdout",
     "output_type": "stream",
     "text": [
      "token:             This | token.pos:       89 | token.pos_: DET\n",
      "token:               is | token.pos:       99 | token.pos_: VERB\n",
      "token:              pos | token.pos:       91 | token.pos_: NOUN\n",
      "token:           tagger | token.pos:       84 | token.pos_: ADP\n",
      "token:             test | token.pos:       91 | token.pos_: NOUN\n",
      "token:              for | token.pos:       84 | token.pos_: ADP\n",
      "token:            spacy | token.pos:       83 | token.pos_: ADJ\n",
      "token:              pos | token.pos:       91 | token.pos_: NOUN\n",
      "token:           tagger | token.pos:       84 | token.pos_: ADP\n"
     ]
    }
   ],
   "source": [
    "#return the type of the words\n",
    "for token in doc4:\n",
    "    print('token: %16s | token.pos: %8s | token.pos_: %s' % (token, token.pos, token.pos_))"
   ]
  },
  {
   "cell_type": "markdown",
   "metadata": {},
   "source": [
    "### Named Entity Recognizer (NER) Test\n",
    "\n",
    "[Entity Types](https://spacy.io/docs/usage/entity-recognition#entity-types)"
   ]
  },
  {
   "cell_type": "code",
   "execution_count": 16,
   "metadata": {},
   "outputs": [
    {
     "data": {
      "text/plain": [
       "Rami Eid is studying at Stony Brook University in New York"
      ]
     },
     "execution_count": 16,
     "metadata": {},
     "output_type": "execute_result"
    }
   ],
   "source": [
    "doc5 = nlp(\"Rami Eid is studying at Stony Brook University in New York\")\n",
    "doc5"
   ]
  },
  {
   "cell_type": "code",
   "execution_count": 17,
   "metadata": {},
   "outputs": [
    {
     "name": "stdout",
     "output_type": "stream",
     "text": [
      "ent:                  Rami Eid | ent.label:      378 | ent.label_: PERSON\n",
      "ent:    Stony Brook University | ent.label:      381 | ent.label_: ORG\n",
      "ent:                  New York | ent.label:      382 | ent.label_: GPE\n"
     ]
    }
   ],
   "source": [
    "#return the entity\n",
    "for ent in doc5.ents:\n",
    "    print('ent: %25s | ent.label: %8s | ent.label_: %s' % (ent, ent.label, ent.label_))"
   ]
  },
  {
   "cell_type": "markdown",
   "metadata": {},
   "source": [
    "### Noun Chunk Test"
   ]
  },
  {
   "cell_type": "code",
   "execution_count": 18,
   "metadata": {},
   "outputs": [
    {
     "data": {
      "text/plain": [
       "Natural language processing (NLP) deals with the application of computational models to text or speech data."
      ]
     },
     "execution_count": 18,
     "metadata": {},
     "output_type": "execute_result"
    }
   ],
   "source": [
    "doc6 = nlp(\"Natural language processing (NLP) deals with the application of computational models to text or speech data.\")\n",
    "doc6"
   ]
  },
  {
   "cell_type": "code",
   "execution_count": 19,
   "metadata": {},
   "outputs": [
    {
     "name": "stdout",
     "output_type": "stream",
     "text": [
      "Natural language processing\n",
      "the application\n",
      "computational models\n"
     ]
    }
   ],
   "source": [
    "#extract the noun terms\n",
    "for np in doc6.noun_chunks:\n",
    "    print(np)"
   ]
  },
  {
   "cell_type": "markdown",
   "metadata": {},
   "source": [
    "### Word Vectors Test"
   ]
  },
  {
   "cell_type": "code",
   "execution_count": 20,
   "metadata": {},
   "outputs": [
    {
     "data": {
      "text/plain": [
       "Apples and oranges are similar. Boots and hippos aren't."
      ]
     },
     "execution_count": 20,
     "metadata": {},
     "output_type": "execute_result"
    }
   ],
   "source": [
    "doc7 = nlp(\"Apples and oranges are similar. Boots and hippos aren't.\")\n",
    "doc7"
   ]
  },
  {
   "cell_type": "code",
   "execution_count": 22,
   "metadata": {},
   "outputs": [
    {
     "name": "stdout",
     "output_type": "stream",
     "text": [
      " 0   Apples\n",
      " 1   and\n",
      " 2   oranges\n",
      " 3   are\n",
      " 4   similar\n",
      " 5   .\n",
      " 6   Boots\n",
      " 7   and\n",
      " 8   hippos\n",
      " 9   are\n",
      "10   n't\n",
      "11   .\n"
     ]
    }
   ],
   "source": [
    "for idx, token in enumerate(doc7):\n",
    "    print('%2d   %s' % (idx, token))"
   ]
  },
  {
   "cell_type": "code",
   "execution_count": 23,
   "metadata": {},
   "outputs": [],
   "source": [
    "apples = doc7[0]"
   ]
  },
  {
   "cell_type": "code",
   "execution_count": 24,
   "metadata": {},
   "outputs": [],
   "source": [
    "oranges = doc7[2]"
   ]
  },
  {
   "cell_type": "code",
   "execution_count": 25,
   "metadata": {},
   "outputs": [],
   "source": [
    "boots = doc7[6]"
   ]
  },
  {
   "cell_type": "code",
   "execution_count": 26,
   "metadata": {},
   "outputs": [],
   "source": [
    "hippos = doc7[8]"
   ]
  },
  {
   "cell_type": "code",
   "execution_count": 27,
   "metadata": {},
   "outputs": [
    {
     "data": {
      "text/plain": [
       "array([ 2.62209511e+00,  4.53348446e+00,  2.73631072e+00, -1.44677043e+00,\n",
       "       -1.78943312e+00, -4.94701117e-01, -4.87206161e-01, -2.07458079e-01,\n",
       "        2.55325413e+00,  6.56588316e-01,  5.52633095e+00,  7.77633488e-01,\n",
       "       -1.31507254e+00, -1.71667933e-02,  2.13521791e+00,  1.86356440e-01,\n",
       "        2.29415536e-01,  3.60906529e+00, -1.69442737e+00,  8.47661376e-01,\n",
       "        5.60788536e+00, -3.99183482e-01, -2.38457203e+00,  3.83515072e+00,\n",
       "       -1.25677443e+00, -1.14747196e-01, -1.97907734e+00, -1.75102532e+00,\n",
       "        1.13177013e+00,  2.99043345e+00, -1.65178227e+00, -2.87852228e-01,\n",
       "       -4.17818904e-01,  1.29469490e+00, -1.76598525e+00,  5.18643260e-02,\n",
       "       -3.04122543e+00, -7.75133491e-01, -1.96064115e+00, -4.24332738e-01,\n",
       "        1.63387501e+00, -1.39898002e+00,  2.12681055e+00, -2.61137509e+00,\n",
       "       -1.92623222e+00, -2.16221023e+00,  2.81052828e+00, -5.32454014e-01,\n",
       "        3.10589933e+00, -6.27263367e-01, -1.07765388e+00, -1.74406385e+00,\n",
       "       -2.34957600e+00, -4.07811046e-01,  1.53226662e+00,  1.06540048e+00,\n",
       "        1.04284823e+00, -1.93210924e+00,  5.82738638e-01,  3.67340040e+00,\n",
       "       -1.69455934e+00, -3.00776839e+00, -2.36941028e+00,  1.06792629e+00,\n",
       "       -2.26577878e-01, -6.05139256e-01,  2.88018361e-02, -2.96794486e+00,\n",
       "       -1.00607395e+00, -2.86831737e+00, -2.31307447e-01, -1.52653456e-01,\n",
       "        3.43772626e+00, -9.54212189e-01, -3.84336853e+00,  8.90232563e-01,\n",
       "       -3.35899711e-01,  1.28980374e+00,  1.73465681e+00,  1.27271998e+00,\n",
       "       -3.86695206e-01, -1.37747240e+00, -1.89055276e+00, -2.89772058e+00,\n",
       "       -6.33249879e-02,  4.38811445e+00, -7.28197336e-01,  2.55762839e+00,\n",
       "       -1.82313001e+00,  4.37785596e-01,  6.19549036e-01, -1.97998989e+00,\n",
       "        1.15499246e+00,  2.25838256e+00,  4.53394055e-01,  5.17075920e+00,\n",
       "        3.33608627e-01, -1.91534376e+00,  2.00376010e+00, -4.38531590e+00,\n",
       "       -2.60129976e+00, -2.44328165e+00,  2.06855559e+00, -1.55781198e+00,\n",
       "       -1.14578235e+00, -2.56261349e+00, -1.14110708e+00, -1.02769637e+00,\n",
       "       -1.00959516e+00,  3.25912833e-01, -4.35267538e-01, -1.46828294e-02,\n",
       "        6.01700783e-01, -7.28697419e-01, -1.21616197e+00,  5.60718012e+00,\n",
       "       -2.86064577e+00,  1.58211958e+00, -5.52896678e-01, -1.31391501e+00,\n",
       "        1.32699871e+00, -2.02807021e+00,  1.10404277e+00,  2.72680855e+00,\n",
       "        2.72349501e+00,  1.92919672e-01, -1.17748547e+00, -2.48202133e+00,\n",
       "       -8.05723548e-01,  1.29144251e+00,  2.15556830e-01,  1.20944664e-01,\n",
       "        1.06828108e-01,  4.85455155e-01, -4.66661274e-01, -5.38226724e-01,\n",
       "       -2.28923053e-01,  1.14804447e-01,  5.49647331e-01,  5.16708195e-01,\n",
       "        7.30345786e-01,  6.99815392e-01, -6.63508326e-02,  1.24121547e-01,\n",
       "        7.07038164e-01,  1.29470155e-01, -1.97420672e-01, -3.32545072e-01,\n",
       "        5.16087651e-01,  1.52199388e-01, -4.68560129e-01, -1.32930756e-01,\n",
       "       -1.00384426e+00,  1.12594068e-02,  3.43685001e-01, -4.78840351e-01,\n",
       "       -3.61296147e-01, -5.62496424e-01,  2.46763721e-01,  1.20056912e-01,\n",
       "        1.72486305e-01, -5.96539140e-01,  8.64910185e-02, -5.05916297e-01,\n",
       "        1.27008617e-01, -8.05100024e-01,  5.30303478e-01,  9.38065946e-02,\n",
       "       -8.92186284e-01, -6.29573911e-02,  5.27621955e-02,  9.51935410e-01,\n",
       "        4.65939701e-01,  1.64036021e-01,  7.22503662e-02,  4.68643397e-01,\n",
       "        6.54595077e-01,  7.82592893e-01, -8.46130431e-01,  1.44537866e+00,\n",
       "        9.13439631e-01, -1.33229941e-01, -6.41290426e-01, -2.31884837e-01,\n",
       "       -4.43336248e-01, -2.80131280e-01,  1.56695202e-01, -1.64408743e-01,\n",
       "        2.02131182e-01, -2.63177425e-01,  1.79049671e-01,  4.78546739e-01,\n",
       "        1.45891756e-02, -6.48751408e-02, -1.73146993e-01, -3.31120014e-01,\n",
       "       -3.24075162e-01,  4.80856001e-03, -8.43888402e-01, -2.78443605e-01,\n",
       "        4.67291504e-01, -1.31464884e-01, -3.18862945e-01,  1.80445820e-01,\n",
       "       -4.79386151e-01,  3.79089624e-01,  8.31594110e-01, -3.29020143e-01,\n",
       "       -1.45707524e+00, -7.75238395e-01, -4.60296214e-01, -3.46001983e-01,\n",
       "        3.57918799e-01,  1.21135056e-01, -1.95839167e-01,  5.25169969e-02,\n",
       "       -3.14858884e-01,  4.39979106e-01, -7.35508800e-02, -2.54349619e-01,\n",
       "       -2.67039955e-01, -7.54742920e-01,  1.84285387e-01, -3.38073254e-01,\n",
       "        7.23472059e-01,  7.71139622e-01, -3.42325747e-01, -3.94438982e-01,\n",
       "        3.65718067e-01,  1.94895685e-01,  6.07474744e-01,  1.07757211e+00,\n",
       "        1.79508567e-01, -2.62371123e-01, -5.80212712e-01,  8.38523805e-01,\n",
       "       -5.48601866e-01,  2.25826204e-02,  7.58887231e-02,  6.99464858e-01,\n",
       "       -4.16645169e-01, -3.81254464e-01,  7.92191088e-01,  2.64543325e-01,\n",
       "        1.23215109e-01,  6.03792012e-01, -3.20614606e-01, -2.15047210e-01,\n",
       "       -2.54413366e-01, -8.16044569e-01,  3.34422827e-01,  1.48272082e-01,\n",
       "        6.72446787e-01, -3.21909726e-01,  1.45186520e+00,  1.73043922e-01,\n",
       "       -3.30781996e-01, -3.46856177e-01, -2.77167559e-01,  2.11174935e-02,\n",
       "       -2.55199194e-01, -9.59000111e-01, -5.35401821e-01, -7.43737280e-01,\n",
       "        1.04992084e-01, -7.82203019e-01, -6.52512074e-01,  1.28201619e-02,\n",
       "        1.95383191e-01,  5.96504033e-01, -7.91896284e-02,  1.04397953e+00,\n",
       "        6.65263459e-02,  4.41909879e-01, -9.83459353e-02, -1.63118511e-01,\n",
       "        1.47177473e-01, -1.28837094e-01,  9.77661669e-01,  2.51604140e-01,\n",
       "       -7.02067792e-01,  4.35309768e-01,  9.60440561e-02,  5.14252782e-02,\n",
       "        3.50230724e-01,  2.29336664e-01,  2.55866647e-02, -1.44428277e+00,\n",
       "       -2.33720034e-01, -1.17930971e-01,  5.18232763e-01,  2.64867455e-01,\n",
       "       -4.96767551e-01,  4.86259460e-01, -8.48253816e-02, -4.81914520e-01,\n",
       "       -4.88027155e-01,  3.12987626e-01,  2.05059826e-01, -3.97781670e-01,\n",
       "       -6.92022741e-01, -5.49348742e-02,  2.19830126e-02, -7.38472819e-01,\n",
       "       -1.67611748e-01, -5.13546228e-01, -1.28756553e-01, -7.34738484e-02,\n",
       "        8.06057453e-02, -7.62738138e-02, -3.82720351e-01,  5.17947316e-01,\n",
       "        1.66602120e-01, -1.00570416e+00,  7.92044401e-01, -1.94659144e-01,\n",
       "       -1.51047409e-01,  9.20306385e-01, -6.42131805e-01,  9.15385127e-01,\n",
       "        4.60391462e-01, -2.48371169e-01,  3.60035241e-01,  1.17270604e-01,\n",
       "       -5.40440381e-02,  5.32675862e-01, -5.93540370e-02, -4.53581333e-01,\n",
       "        4.10860300e-01,  2.82235086e-01,  5.87474167e-01,  3.29896778e-01,\n",
       "        4.25524980e-01, -1.96587980e-01,  1.82340920e-01, -3.43142062e-01,\n",
       "        2.65307784e-01,  1.37020692e-01, -5.60958862e-01, -4.61271495e-01,\n",
       "       -4.20415491e-01,  4.43240583e-01,  8.84195805e-01,  2.15118676e-01,\n",
       "        4.42580372e-01, -3.83157521e-01,  3.16466391e-01,  7.67513573e-01,\n",
       "       -1.57916963e-01,  4.25182208e-02, -5.06700426e-02,  6.27401531e-01,\n",
       "       -4.94907677e-01,  1.78801119e-01, -1.12486750e-01, -1.45742655e-01,\n",
       "       -4.75623429e-01, -1.36786014e-01, -5.13603926e-01, -5.19631803e-01,\n",
       "        3.37492079e-01,  1.07512760e+00,  8.33152890e-01,  1.46801591e-01,\n",
       "       -6.38064802e-01,  4.05423820e-01, -2.91576207e-01, -2.87560821e-01,\n",
       "        3.74119818e-01, -4.34021205e-01,  1.66704416e-01, -4.54314649e-02,\n",
       "        1.78068638e-01, -3.17993939e-01,  6.82678580e-01, -3.02995563e-01,\n",
       "        1.05314776e-02,  7.56559819e-02, -1.10650435e-01, -7.08918571e-02,\n",
       "       -2.54627287e-01, -1.32859081e-01, -1.49759084e-01, -3.74874413e-01],\n",
       "      dtype=float32)"
      ]
     },
     "execution_count": 27,
     "metadata": {},
     "output_type": "execute_result"
    }
   ],
   "source": [
    "hippos.vector"
   ]
  },
  {
   "cell_type": "code",
   "execution_count": 30,
   "metadata": {},
   "outputs": [
    {
     "data": {
      "text/plain": [
       "(384,)"
      ]
     },
     "execution_count": 30,
     "metadata": {},
     "output_type": "execute_result"
    }
   ],
   "source": [
    "boots.vector.shape\n",
    "hippos.vector.shape"
   ]
  },
  {
   "cell_type": "code",
   "execution_count": 31,
   "metadata": {},
   "outputs": [
    {
     "data": {
      "text/plain": [
       "0.5190233"
      ]
     },
     "execution_count": 31,
     "metadata": {},
     "output_type": "execute_result"
    }
   ],
   "source": [
    "# Find the similarity between \"apples\" and \"oranges\"\n",
    "apples.similarity(oranges)"
   ]
  },
  {
   "cell_type": "code",
   "execution_count": 32,
   "metadata": {},
   "outputs": [
    {
     "data": {
      "text/plain": [
       "0.18416452"
      ]
     },
     "execution_count": 32,
     "metadata": {},
     "output_type": "execute_result"
    }
   ],
   "source": [
    "# Find the similarity between \"boots\" and \"hippos\"\n",
    "boots.similarity(hippos)"
   ]
  },
  {
   "cell_type": "markdown",
   "metadata": {},
   "source": [
    "# More Resources\n",
    "\n",
    "- [NLTK vs. spaCy: Natural Language Processing in Python](http://blog.thedataincubator.com/2016/04/nltk-vs-spacy-natural-language-processing-in-python/)\n",
    "- [More spaCy Tutorials](https://spacy.io/docs/usage/tutorials)\n",
    "- [Advanced spaCy Stuff on a Million Yelp Reviews](http://nbviewer.jupyter.org/github/skipgram/modern-nlp-in-python/blob/master/executable/Modern_NLP_in_Python.ipynb)"
   ]
  }
 ],
 "metadata": {
  "kernelspec": {
   "display_name": "Python 3",
   "language": "python",
   "name": "python3"
  },
  "language_info": {
   "codemirror_mode": {
    "name": "ipython",
    "version": 3
   },
   "file_extension": ".py",
   "mimetype": "text/x-python",
   "name": "python",
   "nbconvert_exporter": "python",
   "pygments_lexer": "ipython3",
   "version": "3.6.4"
  }
 },
 "nbformat": 4,
 "nbformat_minor": 2
}
