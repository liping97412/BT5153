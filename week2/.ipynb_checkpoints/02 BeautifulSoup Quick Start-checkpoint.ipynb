{
 "cells": [
  {
   "cell_type": "markdown",
   "metadata": {
    "colab_type": "text",
    "id": "bX5MgOCOYQwJ"
   },
   "source": [
    "# Getting Data from URL using BeautifulSoup\n",
    "\n",
    "Source: https://www.crummy.com/software/BeautifulSoup/bs4/doc/"
   ]
  },
  {
   "cell_type": "markdown",
   "metadata": {
    "colab_type": "text",
    "id": "5lupF0kNYQwN"
   },
   "source": [
    "# Installing BeautifulSoup"
   ]
  },
  {
   "cell_type": "markdown",
   "metadata": {
    "colab_type": "text",
    "id": "dJuuaynyYQwO"
   },
   "source": [
    "> If you’re using a recent version of Debian or Ubuntu Linux, you can install Beautiful Soup with the system package manager:\n",
    "\n",
    "> `$ apt-get install python-bs4`\n",
    "\n",
    "> **Beautiful Soup 4** is published through PyPi, so if you can’t install it with the system packager, you can install it with easy_install or pip. The package name is beautifulsoup4, and the same package works on Python 2 and Python 3.\n",
    "\n",
    "> `$ easy_install beautifulsoup4`\n",
    "\n",
    "> `$ pip install beautifulsoup4`"
   ]
  },
  {
   "cell_type": "markdown",
   "metadata": {
    "colab_type": "text",
    "id": "xcg-5H1yYQwO"
   },
   "source": [
    "# Quick Start"
   ]
  },
  {
   "cell_type": "markdown",
   "metadata": {
    "colab_type": "text",
    "id": "JhxCNrngYQwP"
   },
   "source": [
    "Here’s an HTML document I’ll be using as an example throughout this document. It’s part of a story from Alice in Wonderland:"
   ]
  },
  {
   "cell_type": "code",
   "execution_count": 0,
   "metadata": {
    "colab": {},
    "colab_type": "code",
    "id": "1RvgXh9-YQwQ"
   },
   "outputs": [],
   "source": [
    "html_doc = \"\"\"\n",
    "<html><head><title>The Dormouse's story</title></head>\n",
    "<body>\n",
    "<p class=\"title\"><b>The Dormouse's story</b></p>\n",
    "\n",
    "<p class=\"story\">Once upon a time there were three little sisters; and their names were\n",
    "<a href=\"http://example.com/elsie\" class=\"sister\" id=\"link1\">Elsie</a>,\n",
    "<a href=\"http://example.com/lacie\" class=\"sister\" id=\"link2\">Lacie</a> and\n",
    "<a href=\"http://example.com/tillie\" class=\"sister\" id=\"link3\">Tillie</a>;\n",
    "and they lived at the bottom of a well.</p>\n",
    "\n",
    "<p class=\"story\">...</p>\n",
    "\"\"\""
   ]
  },
  {
   "cell_type": "markdown",
   "metadata": {
    "colab_type": "text",
    "id": "1woY5k-nYQwT"
   },
   "source": [
    "Running the “three sisters” document through Beautiful Soup gives us a `BeautifulSoup` object, which represents the document as a nested data structure:"
   ]
  },
  {
   "cell_type": "code",
   "execution_count": 0,
   "metadata": {
    "colab": {},
    "colab_type": "code",
    "id": "p1h7RnOHYQwU"
   },
   "outputs": [],
   "source": [
    "from bs4 import BeautifulSoup\n",
    "soup = BeautifulSoup(html_doc, 'html.parser')"
   ]
  },
  {
   "cell_type": "code",
   "execution_count": 24,
   "metadata": {
    "colab": {
     "base_uri": "https://localhost:8080/",
     "height": 34
    },
    "colab_type": "code",
    "executionInfo": {
     "elapsed": 1218,
     "status": "ok",
     "timestamp": 1544517548720,
     "user": {
      "displayName": "Yiliang Zhao",
      "photoUrl": "https://lh5.googleusercontent.com/-04VJ4L4y79E/AAAAAAAAAAI/AAAAAAAAAAc/JEDUZ4BZndY/s64/photo.jpg",
      "userId": "06402719980278340331"
     },
     "user_tz": -480
    },
    "id": "Ot8y6_XrYQwX",
    "outputId": "cf69ffe1-b926-4c0f-dcb7-0676fa76960f"
   },
   "outputs": [
    {
     "data": {
      "text/plain": [
       "bs4.BeautifulSoup"
      ]
     },
     "execution_count": 24,
     "metadata": {
      "tags": []
     },
     "output_type": "execute_result"
    }
   ],
   "source": [
    "type(soup)"
   ]
  },
  {
   "cell_type": "code",
   "execution_count": 25,
   "metadata": {
    "colab": {
     "base_uri": "https://localhost:8080/",
     "height": 578
    },
    "colab_type": "code",
    "executionInfo": {
     "elapsed": 1204,
     "status": "ok",
     "timestamp": 1544517548720,
     "user": {
      "displayName": "Yiliang Zhao",
      "photoUrl": "https://lh5.googleusercontent.com/-04VJ4L4y79E/AAAAAAAAAAI/AAAAAAAAAAc/JEDUZ4BZndY/s64/photo.jpg",
      "userId": "06402719980278340331"
     },
     "user_tz": -480
    },
    "id": "0jOkAk9VYQwc",
    "outputId": "404a5de9-e08a-4963-c22f-1d52794df2c4"
   },
   "outputs": [
    {
     "name": "stdout",
     "output_type": "stream",
     "text": [
      "<html>\n",
      " <head>\n",
      "  <title>\n",
      "   The Dormouse's story\n",
      "  </title>\n",
      " </head>\n",
      " <body>\n",
      "  <p class=\"title\">\n",
      "   <b>\n",
      "    The Dormouse's story\n",
      "   </b>\n",
      "  </p>\n",
      "  <p class=\"story\">\n",
      "   Once upon a time there were three little sisters; and their names were\n",
      "   <a class=\"sister\" href=\"http://example.com/elsie\" id=\"link1\">\n",
      "    Elsie\n",
      "   </a>\n",
      "   ,\n",
      "   <a class=\"sister\" href=\"http://example.com/lacie\" id=\"link2\">\n",
      "    Lacie\n",
      "   </a>\n",
      "   and\n",
      "   <a class=\"sister\" href=\"http://example.com/tillie\" id=\"link3\">\n",
      "    Tillie\n",
      "   </a>\n",
      "   ;\n",
      "and they lived at the bottom of a well.\n",
      "  </p>\n",
      "  <p class=\"story\">\n",
      "   ...\n",
      "  </p>\n",
      " </body>\n",
      "</html>\n"
     ]
    }
   ],
   "source": [
    "print(soup.prettify())"
   ]
  },
  {
   "cell_type": "markdown",
   "metadata": {
    "colab_type": "text",
    "collapsed": true,
    "id": "CQh8YwPCYQwg"
   },
   "source": [
    "Here are some simple ways to navigate that data structure:"
   ]
  },
  {
   "cell_type": "code",
   "execution_count": 26,
   "metadata": {
    "colab": {
     "base_uri": "https://localhost:8080/",
     "height": 34
    },
    "colab_type": "code",
    "executionInfo": {
     "elapsed": 1178,
     "status": "ok",
     "timestamp": 1544517548721,
     "user": {
      "displayName": "Yiliang Zhao",
      "photoUrl": "https://lh5.googleusercontent.com/-04VJ4L4y79E/AAAAAAAAAAI/AAAAAAAAAAc/JEDUZ4BZndY/s64/photo.jpg",
      "userId": "06402719980278340331"
     },
     "user_tz": -480
    },
    "id": "OGzxEpM0YQwh",
    "outputId": "658176de-7af5-44e9-c46d-0670da166569"
   },
   "outputs": [
    {
     "data": {
      "text/plain": [
       "<title>The Dormouse's story</title>"
      ]
     },
     "execution_count": 26,
     "metadata": {
      "tags": []
     },
     "output_type": "execute_result"
    }
   ],
   "source": [
    "soup.title "
   ]
  },
  {
   "cell_type": "code",
   "execution_count": 27,
   "metadata": {
    "colab": {
     "base_uri": "https://localhost:8080/",
     "height": 34
    },
    "colab_type": "code",
    "executionInfo": {
     "elapsed": 1166,
     "status": "ok",
     "timestamp": 1544517548722,
     "user": {
      "displayName": "Yiliang Zhao",
      "photoUrl": "https://lh5.googleusercontent.com/-04VJ4L4y79E/AAAAAAAAAAI/AAAAAAAAAAc/JEDUZ4BZndY/s64/photo.jpg",
      "userId": "06402719980278340331"
     },
     "user_tz": -480
    },
    "id": "JRJvz_V9YQwn",
    "outputId": "b9d889a3-7ece-47bf-d353-67959c80c56d"
   },
   "outputs": [
    {
     "data": {
      "text/plain": [
       "\"The Dormouse's story\""
      ]
     },
     "execution_count": 27,
     "metadata": {
      "tags": []
     },
     "output_type": "execute_result"
    }
   ],
   "source": [
    "soup.title.string"
   ]
  },
  {
   "cell_type": "code",
   "execution_count": 28,
   "metadata": {
    "colab": {
     "base_uri": "https://localhost:8080/",
     "height": 34
    },
    "colab_type": "code",
    "executionInfo": {
     "elapsed": 1157,
     "status": "ok",
     "timestamp": 1544517548723,
     "user": {
      "displayName": "Yiliang Zhao",
      "photoUrl": "https://lh5.googleusercontent.com/-04VJ4L4y79E/AAAAAAAAAAI/AAAAAAAAAAc/JEDUZ4BZndY/s64/photo.jpg",
      "userId": "06402719980278340331"
     },
     "user_tz": -480
    },
    "id": "9b_Givc_YQwq",
    "outputId": "ee096a40-d604-4c67-86a5-b17355a283f3"
   },
   "outputs": [
    {
     "data": {
      "text/plain": [
       "'head'"
      ]
     },
     "execution_count": 28,
     "metadata": {
      "tags": []
     },
     "output_type": "execute_result"
    }
   ],
   "source": [
    "soup.title.parent.name"
   ]
  },
  {
   "cell_type": "code",
   "execution_count": 29,
   "metadata": {
    "colab": {
     "base_uri": "https://localhost:8080/",
     "height": 34
    },
    "colab_type": "code",
    "executionInfo": {
     "elapsed": 1151,
     "status": "ok",
     "timestamp": 1544517548726,
     "user": {
      "displayName": "Yiliang Zhao",
      "photoUrl": "https://lh5.googleusercontent.com/-04VJ4L4y79E/AAAAAAAAAAI/AAAAAAAAAAc/JEDUZ4BZndY/s64/photo.jpg",
      "userId": "06402719980278340331"
     },
     "user_tz": -480
    },
    "id": "qj0C_-CyYQwt",
    "outputId": "7a3ceb28-85f6-46f8-f108-d711d0a79e89"
   },
   "outputs": [
    {
     "data": {
      "text/plain": [
       "<p class=\"title\"><b>The Dormouse's story</b></p>"
      ]
     },
     "execution_count": 29,
     "metadata": {
      "tags": []
     },
     "output_type": "execute_result"
    }
   ],
   "source": [
    "soup.p"
   ]
  },
  {
   "cell_type": "code",
   "execution_count": 30,
   "metadata": {
    "colab": {
     "base_uri": "https://localhost:8080/",
     "height": 34
    },
    "colab_type": "code",
    "executionInfo": {
     "elapsed": 1144,
     "status": "ok",
     "timestamp": 1544517548726,
     "user": {
      "displayName": "Yiliang Zhao",
      "photoUrl": "https://lh5.googleusercontent.com/-04VJ4L4y79E/AAAAAAAAAAI/AAAAAAAAAAc/JEDUZ4BZndY/s64/photo.jpg",
      "userId": "06402719980278340331"
     },
     "user_tz": -480
    },
    "id": "934gv4hnYQwz",
    "outputId": "cdfaaceb-769e-443f-e733-40cc1430a501"
   },
   "outputs": [
    {
     "data": {
      "text/plain": [
       "['title']"
      ]
     },
     "execution_count": 30,
     "metadata": {
      "tags": []
     },
     "output_type": "execute_result"
    }
   ],
   "source": [
    "soup.p['class']"
   ]
  },
  {
   "cell_type": "code",
   "execution_count": 31,
   "metadata": {
    "colab": {
     "base_uri": "https://localhost:8080/",
     "height": 34
    },
    "colab_type": "code",
    "executionInfo": {
     "elapsed": 1137,
     "status": "ok",
     "timestamp": 1544517548727,
     "user": {
      "displayName": "Yiliang Zhao",
      "photoUrl": "https://lh5.googleusercontent.com/-04VJ4L4y79E/AAAAAAAAAAI/AAAAAAAAAAc/JEDUZ4BZndY/s64/photo.jpg",
      "userId": "06402719980278340331"
     },
     "user_tz": -480
    },
    "id": "fsoSY7KVYQw4",
    "outputId": "334c667f-2c5b-445e-87cf-19c2e5015244"
   },
   "outputs": [
    {
     "data": {
      "text/plain": [
       "<a class=\"sister\" href=\"http://example.com/elsie\" id=\"link1\">Elsie</a>"
      ]
     },
     "execution_count": 31,
     "metadata": {
      "tags": []
     },
     "output_type": "execute_result"
    }
   ],
   "source": [
    "soup.a"
   ]
  },
  {
   "cell_type": "code",
   "execution_count": 32,
   "metadata": {
    "colab": {
     "base_uri": "https://localhost:8080/",
     "height": 136
    },
    "colab_type": "code",
    "executionInfo": {
     "elapsed": 1125,
     "status": "ok",
     "timestamp": 1544517548728,
     "user": {
      "displayName": "Yiliang Zhao",
      "photoUrl": "https://lh5.googleusercontent.com/-04VJ4L4y79E/AAAAAAAAAAI/AAAAAAAAAAc/JEDUZ4BZndY/s64/photo.jpg",
      "userId": "06402719980278340331"
     },
     "user_tz": -480
    },
    "id": "J7RimeoKYQw7",
    "outputId": "75d49b4e-b1a0-4f49-b3d4-1c1fad63d04a"
   },
   "outputs": [
    {
     "data": {
      "text/plain": [
       "[<p class=\"title\"><b>The Dormouse's story</b></p>,\n",
       " <p class=\"story\">Once upon a time there were three little sisters; and their names were\n",
       " <a class=\"sister\" href=\"http://example.com/elsie\" id=\"link1\">Elsie</a>,\n",
       " <a class=\"sister\" href=\"http://example.com/lacie\" id=\"link2\">Lacie</a> and\n",
       " <a class=\"sister\" href=\"http://example.com/tillie\" id=\"link3\">Tillie</a>;\n",
       " and they lived at the bottom of a well.</p>,\n",
       " <p class=\"story\">...</p>]"
      ]
     },
     "execution_count": 32,
     "metadata": {
      "tags": []
     },
     "output_type": "execute_result"
    }
   ],
   "source": [
    "soup.find_all('p')"
   ]
  },
  {
   "cell_type": "code",
   "execution_count": 33,
   "metadata": {
    "colab": {
     "base_uri": "https://localhost:8080/",
     "height": 34
    },
    "colab_type": "code",
    "executionInfo": {
     "elapsed": 1117,
     "status": "ok",
     "timestamp": 1544517548728,
     "user": {
      "displayName": "Yiliang Zhao",
      "photoUrl": "https://lh5.googleusercontent.com/-04VJ4L4y79E/AAAAAAAAAAI/AAAAAAAAAAc/JEDUZ4BZndY/s64/photo.jpg",
      "userId": "06402719980278340331"
     },
     "user_tz": -480
    },
    "id": "tha91ZkKYQw_",
    "outputId": "552176bf-8f16-4f9f-da23-d86b3b7ea76d"
   },
   "outputs": [
    {
     "data": {
      "text/plain": [
       "<a class=\"sister\" href=\"http://example.com/tillie\" id=\"link3\">Tillie</a>"
      ]
     },
     "execution_count": 33,
     "metadata": {
      "tags": []
     },
     "output_type": "execute_result"
    }
   ],
   "source": [
    "soup.find(id=\"link3\")"
   ]
  },
  {
   "cell_type": "markdown",
   "metadata": {
    "colab_type": "text",
    "collapsed": true,
    "id": "E0ogIznwYQxH"
   },
   "source": [
    "One common task is extracting all the URLs found within a page’s <a> tags:"
   ]
  },
  {
   "cell_type": "code",
   "execution_count": 34,
   "metadata": {
    "colab": {
     "base_uri": "https://localhost:8080/",
     "height": 68
    },
    "colab_type": "code",
    "executionInfo": {
     "elapsed": 1106,
     "status": "ok",
     "timestamp": 1544517548729,
     "user": {
      "displayName": "Yiliang Zhao",
      "photoUrl": "https://lh5.googleusercontent.com/-04VJ4L4y79E/AAAAAAAAAAI/AAAAAAAAAAc/JEDUZ4BZndY/s64/photo.jpg",
      "userId": "06402719980278340331"
     },
     "user_tz": -480
    },
    "id": "AVENUsAQYQxI",
    "outputId": "a74501b9-d030-45a1-95fd-fc3f42dea5de"
   },
   "outputs": [
    {
     "name": "stdout",
     "output_type": "stream",
     "text": [
      "http://example.com/elsie\n",
      "http://example.com/lacie\n",
      "http://example.com/tillie\n"
     ]
    }
   ],
   "source": [
    "for link in soup.find_all('a'):\n",
    "    print(link.get('href'))"
   ]
  },
  {
   "cell_type": "markdown",
   "metadata": {
    "colab_type": "text",
    "id": "bWwlWiLyYQxN"
   },
   "source": [
    "Another common task is extracting all the text from a page:"
   ]
  },
  {
   "cell_type": "code",
   "execution_count": 35,
   "metadata": {
    "colab": {
     "base_uri": "https://localhost:8080/",
     "height": 204
    },
    "colab_type": "code",
    "executionInfo": {
     "elapsed": 1098,
     "status": "ok",
     "timestamp": 1544517548729,
     "user": {
      "displayName": "Yiliang Zhao",
      "photoUrl": "https://lh5.googleusercontent.com/-04VJ4L4y79E/AAAAAAAAAAI/AAAAAAAAAAc/JEDUZ4BZndY/s64/photo.jpg",
      "userId": "06402719980278340331"
     },
     "user_tz": -480
    },
    "id": "83Wo2c0AYQxO",
    "outputId": "cc7034ba-1243-4222-df67-67dcbfbcf5e6",
    "scrolled": false
   },
   "outputs": [
    {
     "name": "stdout",
     "output_type": "stream",
     "text": [
      "\n",
      "The Dormouse's story\n",
      "\n",
      "The Dormouse's story\n",
      "Once upon a time there were three little sisters; and their names were\n",
      "Elsie,\n",
      "Lacie and\n",
      "Tillie;\n",
      "and they lived at the bottom of a well.\n",
      "...\n",
      "\n"
     ]
    }
   ],
   "source": [
    "print(soup.get_text())"
   ]
  },
  {
   "cell_type": "markdown",
   "metadata": {
    "colab_type": "text",
    "id": "c0O2bPHvYQxT"
   },
   "source": [
    "# More info: https://www.crummy.com/software/BeautifulSoup/bs4/doc/"
   ]
  },
  {
   "cell_type": "code",
   "execution_count": 37,
   "metadata": {
    "colab": {
     "base_uri": "https://localhost:8080/",
     "height": 34
    },
    "colab_type": "code",
    "executionInfo": {
     "elapsed": 876,
     "status": "ok",
     "timestamp": 1544517645762,
     "user": {
      "displayName": "Yiliang Zhao",
      "photoUrl": "https://lh5.googleusercontent.com/-04VJ4L4y79E/AAAAAAAAAAI/AAAAAAAAAAc/JEDUZ4BZndY/s64/photo.jpg",
      "userId": "06402719980278340331"
     },
     "user_tz": -480
    },
    "id": "Bvk2DaeDYQxV",
    "outputId": "a4c2311e-4141-4352-cb5d-c36c61a1d2a1"
   },
   "outputs": [
    {
     "data": {
      "text/plain": [
       "<p class=\"title\"><b>The Dormouse's story</b></p>"
      ]
     },
     "execution_count": 37,
     "metadata": {
      "tags": []
     },
     "output_type": "execute_result"
    }
   ],
   "source": [
    "soup.p"
   ]
  },
  {
   "cell_type": "code",
   "execution_count": 38,
   "metadata": {
    "colab": {
     "base_uri": "https://localhost:8080/",
     "height": 54
    },
    "colab_type": "code",
    "executionInfo": {
     "elapsed": 775,
     "status": "ok",
     "timestamp": 1544517824231,
     "user": {
      "displayName": "Yiliang Zhao",
      "photoUrl": "https://lh5.googleusercontent.com/-04VJ4L4y79E/AAAAAAAAAAI/AAAAAAAAAAc/JEDUZ4BZndY/s64/photo.jpg",
      "userId": "06402719980278340331"
     },
     "user_tz": -480
    },
    "id": "_g3zrMf3YQxX",
    "outputId": "d9f7e882-d9dc-404d-cad1-2aee986b1051"
   },
   "outputs": [
    {
     "data": {
      "text/plain": [
       "\"\\nThe Dormouse's story\\n\\nThe Dormouse's story\\nOnce upon a time there were three little sisters; and their names were\\nElsie,\\nLacie and\\nTillie;\\nand they lived at the bottom of a well.\\n...\\n\""
      ]
     },
     "execution_count": 38,
     "metadata": {
      "tags": []
     },
     "output_type": "execute_result"
    }
   ],
   "source": [
    "soup.get_text()"
   ]
  },
  {
   "cell_type": "code",
   "execution_count": 0,
   "metadata": {
    "colab": {},
    "colab_type": "code",
    "id": "V5azrVamYQxa"
   },
   "outputs": [],
   "source": []
  }
 ],
 "metadata": {
  "colab": {
   "name": "02 BeautifulSoup Quick Start.ipynb",
   "provenance": [],
   "version": "0.3.2"
  },
  "kernelspec": {
   "display_name": "Python 3",
   "language": "python",
   "name": "python3"
  },
  "language_info": {
   "codemirror_mode": {
    "name": "ipython",
    "version": 3
   },
   "file_extension": ".py",
   "mimetype": "text/x-python",
   "name": "python",
   "nbconvert_exporter": "python",
   "pygments_lexer": "ipython3",
   "version": "3.6.4"
  }
 },
 "nbformat": 4,
 "nbformat_minor": 1
}
